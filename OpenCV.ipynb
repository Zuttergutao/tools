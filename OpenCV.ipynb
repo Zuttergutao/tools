{
 "cells": [
  {
   "cell_type": "code",
   "execution_count": null,
   "id": "6ea61213-bdcd-4e0f-8794-f5ce632f21e8",
   "metadata": {
    "tags": []
   },
   "outputs": [],
   "source": [
    "import numpy as np\n",
    "import pandas as pd\n",
    "import cv2\n",
    "from matplotlib import pyplot as plt\n",
    "%matplotlib inline"
   ]
  },
  {
   "cell_type": "code",
   "execution_count": null,
   "id": "0419a390-5803-4dec-a1f2-38393c886b49",
   "metadata": {
    "tags": []
   },
   "outputs": [],
   "source": [
    "#彩色图片\n",
    "color_img=cv2.imread('1.jpg')\n",
    "#灰色图片\n",
    "gray_img=cv2.imread('1.jpg',cv2.IMREAD_GRAYSCALE)"
   ]
  },
  {
   "cell_type": "code",
   "execution_count": null,
   "id": "83ff64cd-9587-4d6b-bfc1-cc2b834761ed",
   "metadata": {
    "tags": []
   },
   "outputs": [],
   "source": [
    "#将单通道图像保存后在读取仍然是3通道\n",
    "cv2.imwrite('gary.jpg',gray_img)\n",
    "#指定jpg质量，范围从1-100，默认95，值越高画质越好\n",
    "cv2.imwrite('gray.jpg',gray_img,(cv2.IMWRITE_JPEG_QUALITY,20))"
   ]
  },
  {
   "cell_type": "code",
   "execution_count": null,
   "id": "f47ae2ad-c8ec-4e13-8246-11d04e30922e",
   "metadata": {
    "tags": []
   },
   "outputs": [],
   "source": [
    "def d1():\n",
    "    img=cv2.imread('1.jpg',cv2.IMREAD_GRAYSCALE)\n",
    "    cv2.imshow('image',img)\n",
    "    k=cv2.waitKey(0)\n",
    "    # esc退出\n",
    "    if k==27:\n",
    "        cv2.destroyAllWindows()\n",
    "    # s保存\n",
    "    elif k==115:\n",
    "        cv2.imwrite('gary.jpg',img)\n",
    "        cv2.destroyAllWindows()\n",
    "        \n",
    "d1()"
   ]
  },
  {
   "cell_type": "code",
   "execution_count": null,
   "id": "81c359cf-ad41-4103-970a-3cc7e422e003",
   "metadata": {
    "tags": []
   },
   "outputs": [],
   "source": [
    "def d2():\n",
    "    #0表示打开摄像头 路径表示视频\n",
    "    cap=cv2.VideoCapture(0)\n",
    "    while(True):\n",
    "        ret,frame=cap.read()\n",
    "        gray=cv2.cvtColor(frame,cv2.COLOR_BGR2GRAY)\n",
    "        cv2.imshow('frame',gray)\n",
    "        if cv2.waitKey(1)&0xFF==ord('q'):\n",
    "            break\n",
    "    cap.release()\n",
    "    cv2.destroyAllWindows()\n",
    "\n",
    "d2()"
   ]
  },
  {
   "cell_type": "code",
   "execution_count": null,
   "id": "0caa556c-408b-4796-9c75-175dbb64be6a",
   "metadata": {
    "tags": []
   },
   "outputs": [],
   "source": [
    "def d3():\n",
    "    img=np.zeros((512,512,3),np.uint8)\n",
    "    cv2.line(img,(0,0),(511,511),(255,255,0),5)\n",
    "    cv2.rectangle(img,(384,0),(510,128),(0,255,0),2)\n",
    "    cv2.circle(img,(447,63),63,(0,0,255),5)\n",
    "    cv2.ellipse(img,(256,256),(100,50),0,0,180,(0,255,0),-1)\n",
    "    cv2.putText(img,'OPENCV',(10,500),cv2.FONT_HERSHEY_SCRIPT_SIMPLEX,3,(255,255,255),5)\n",
    "    cv2.imshow('img',img)\n",
    "    # 显示图片必须加下面的代码\n",
    "    cv2.waitKey(0)\n",
    "d3()"
   ]
  },
  {
   "cell_type": "code",
   "execution_count": null,
   "id": "7af1090d-97e6-452a-8f2b-1064fba23179",
   "metadata": {
    "tags": []
   },
   "outputs": [],
   "source": [
    "def nothing(x):\n",
    "    pass\n",
    "def d4():\n",
    "    # 创建一副􅢀色图像\n",
    "    img=np.zeros((300,512,3),np.uint8)\n",
    "    cv2.namedWindow('image')\n",
    "    cv2.createTrackbar('R','image',0,255,nothing)\n",
    "    cv2.createTrackbar('G','image',0,255,nothing)\n",
    "    cv2.createTrackbar('B','image',0,255,nothing)\n",
    "    switch='0:OFF\\n1:ON'\n",
    "    cv2.createTrackbar(switch,'image',0,1,nothing)\n",
    "    while(1):\n",
    "        cv2.imshow('image',img)\n",
    "        k=cv2.waitKey(1)&0xFF\n",
    "        if k==27:\n",
    "             break\n",
    "        \n",
    "        r=cv2.getTrackbarPos('R','image')\n",
    "        g=cv2.getTrackbarPos('G','image')\n",
    "        b=cv2.getTrackbarPos('B','image')\n",
    "        s=cv2.getTrackbarPos(switch,'image')\n",
    "        if s==0:\n",
    "             img[:]=0\n",
    "        else:\n",
    "            img[:]=[b,g,r]\n",
    "    cv2.destroyAllWindows()\n",
    "d4()"
   ]
  },
  {
   "cell_type": "code",
   "execution_count": null,
   "id": "0fede01f-13a9-4a99-90b7-0628b9f3c6d9",
   "metadata": {
    "tags": []
   },
   "outputs": [],
   "source": [
    "def d5():\n",
    "    img=cv2.imread('1.jpg')\n",
    "    px=img[100,100]\n",
    "    for x in range(100,200):\n",
    "        for y in range(50,60):\n",
    "            img[x,y]=[0,255,255]\n",
    "    cv2.imshow('img',img)\n",
    "    cv2.waitKey(0)\n",
    "    cv2.destroyAllWindows()\n",
    "d5()"
   ]
  },
  {
   "cell_type": "code",
   "execution_count": null,
   "id": "5ecca6b0-49fd-4462-8d25-e3afbba2a2f9",
   "metadata": {
    "tags": []
   },
   "outputs": [],
   "source": [
    "def d6():\n",
    "    img=cv2.imread('1.jpg')\n",
    "    print(img.shape)\n",
    "    head=img[0:150,250:380]\n",
    "    img[0:150,50:180]=head\n",
    "    cv2.imshow('img',img)\n",
    "    cv2.waitKey(0)\n",
    "    cv2.destroyAllWindows()\n",
    "d6()"
   ]
  },
  {
   "cell_type": "code",
   "execution_count": null,
   "id": "43a9f6b4-4514-4f03-b832-0059739c280c",
   "metadata": {
    "tags": []
   },
   "outputs": [],
   "source": [
    "def d7():\n",
    "    img=cv2.imread('1.jpg')\n",
    "    b,g,r=cv2.split(img)\n",
    "    # img有三个通道B、G、R\n",
    "    b_1=img[:,:,2]\n",
    "    img=cv2.merge([b,g,r])\n",
    "    cv2.imshow('img',img)\n",
    "    cv2.waitKey(0)\n",
    "    cv2.destroyAllWindows()\n",
    "d7()"
   ]
  },
  {
   "cell_type": "code",
   "execution_count": null,
   "id": "763062fa-1090-4a82-8060-4efe01e40074",
   "metadata": {
    "tags": []
   },
   "outputs": [],
   "source": [
    "def d8():\n",
    "    img1=cv2.resize(cv2.imread('1.jpg'),(600,250))\n",
    "    img2=cv2.resize(cv2.imread('2.png'),(600,250))\n",
    "    dst=cv2.addWeighted(img1,0.8,img2,0.2,0)\n",
    "    cv2.imshow('img',dst)\n",
    "    cv2.waitKey(0)\n",
    "    cv2.destroyAllWindows()\n",
    "    cv2.imwrite('combained.png',dst)\n",
    "d8()"
   ]
  },
  {
   "cell_type": "code",
   "execution_count": null,
   "id": "7e4f794d-b77c-4984-a8a9-6553d8c68fdb",
   "metadata": {
    "tags": []
   },
   "outputs": [],
   "source": [
    "def d9():\n",
    "    img1 = cv2.imread('1.jpg')\n",
    "    img2 = cv2.resize(cv2.imread('logo.jpg'),(50,50))\n",
    "    # I want to put logo on top-left corner, So I create a ROI\n",
    "    rows,cols,channels = img2.shape\n",
    "    roi = img1[0:rows, 0:cols ]\n",
    "    # Now create a mask of logo and create its inverse mask also\n",
    "    img2gray = cv2.cvtColor(img2,cv2.COLOR_BGR2GRAY)\n",
    "    ret, mask = cv2.threshold(img2gray, 175,255, cv2.THRESH_BINARY)\n",
    "    mask_inv = cv2.bitwise_not(mask)\n",
    "    # Now black-out the area of logo in ROI\n",
    "    # 取roi 中与mask 中不为􅂥的值对应的像素的值􈙽其他值为0\n",
    "    # 注意􄦈􄭻必􅈪有mask=mask 或者mask=mask_inv, 其中的mask= 不能忽略\n",
    "    img1_bg = cv2.bitwise_and(roi,roi,mask = mask)\n",
    "    # 取roi 中与mask_inv 中不为􅂥的值对应的像素的值􈙽其他值为0。\n",
    "    # Take only region of logo from logo image.\n",
    "    img2_fg = cv2.bitwise_and(img2,img2,mask = mask_inv)\n",
    "    # Put logo in ROI and modify the main image\n",
    "    dst = cv2.add(img1_bg,img2_fg)\n",
    "    img1[0:rows, 0:cols ] = dst\n",
    "    cv2.imshow('res',img1)\n",
    "    cv2.waitKey(0)\n",
    "    cv2.destroyAllWindows()\n",
    "d9()"
   ]
  },
  {
   "cell_type": "code",
   "execution_count": null,
   "id": "4ad3db8a-40b6-4525-aad9-6132e05f2e1c",
   "metadata": {
    "tags": []
   },
   "outputs": [],
   "source": [
    "def d10():\n",
    "    img=cv2.imread('1.jpg',cv2.IMREAD_GRAYSCALE)\n",
    "    #计算运行了多长时间s\n",
    "    e1=cv2.getTickCount()\n",
    "    for i in range(5,49,2):\n",
    "        img=cv2.medianBlur(img,i)\n",
    "        cv2.imshow('img',img)\n",
    "        cv2.waitKey(2000)\n",
    "        cv2.destroyAllWindows()\n",
    "    e2=cv2.getTickCount()\n",
    "    time=(e2-e1)/cv2.getTickFrequency()\n",
    "    return time\n",
    "d10()"
   ]
  },
  {
   "cell_type": "code",
   "execution_count": null,
   "id": "d85e7e8b-a0f2-4109-ba99-41241f21713e",
   "metadata": {
    "tags": []
   },
   "outputs": [],
   "source": [
    "#查看优化是否会开启\n",
    "cv2.useOptimized()\n",
    "#开启优化\n",
    "cv2.setUseOptimized()\n",
    "x=5\n",
    "%timeit y=x**2"
   ]
  },
  {
   "cell_type": "code",
   "execution_count": null,
   "id": "8f7cc297-38b2-4e18-aadd-ed395a56ad02",
   "metadata": {
    "tags": []
   },
   "outputs": [],
   "source": [
    "# 颜色空间转换cv2.cvtColor cv2.inRange\n",
    "def d11():\n",
    "    img=cv2.imread('1.jpg')\n",
    "    #h转换为HSV格式\n",
    "    hsv=cv2.cvtColor(img,cv2.COLOR_BGR2HSV)\n",
    "    #设定蓝色阈值\n",
    "    low_blue=np.array([50,100,100])\n",
    "    up_blue=np.array([130,255,255])\n",
    "    #根据阈值构建掩模\n",
    "    mask=cv2.inRange(hsv,low_blue,up_blue)\n",
    "    #对原图像和掩模进行位运算\n",
    "    res=cv2.bitwise_and(img,img,mask=mask)\n",
    "    cv2.imshow('frame',img)\n",
    "    cv2.imshow('res',res)\n",
    "    cv2.waitKey(0)\n",
    "    cv2.destroyAllWindows()\n",
    "d11()"
   ]
  },
  {
   "cell_type": "code",
   "execution_count": null,
   "id": "f51a9707-ffeb-4a8e-86b9-92bc9b6a337a",
   "metadata": {
    "tags": []
   },
   "outputs": [],
   "source": [
    "# 几何变换cv2.getPerspectiveTransform\n",
    "def d12():\n",
    "    img=cv2.imread('1.jpg')\n",
    "    res1=cv2.resize(img,None,fx=2,fy=2,interpolation=cv2.INTER_CUBIC)\n",
    "    res2=cv2.resize(img,(300,100))\n",
    "    cv2.imshow(\"img1\",res1)\n",
    "    cv2.imshow(\"img2\",res2)\n",
    "    cv2.waitKey(0)\n",
    "    cv2.destroyAllWindows()\n",
    "    \n",
    "d12()"
   ]
  },
  {
   "cell_type": "code",
   "execution_count": null,
   "id": "eef0ab7e-7323-4ff3-9c7e-b7dc5c1f34a7",
   "metadata": {},
   "outputs": [],
   "source": [
    "# 平移\n",
    "def d13():\n",
    "    img=cv2.imread('1.jpg')\n",
    "    shift=np.float32([[1,0,-50],[0,1,-50]])\n",
    "    dst1=cv2.warpAffine(img,shift,None)\n",
    "    dst2=cv2.warpAffine(img,shift,(300,100))\n",
    "    cv2.imshow(\"img1\",dst1)\n",
    "    cv2.imshow(\"img2\",dst2)\n",
    "    cv2.waitKey(0)\n",
    "    cv2.destroyAllWindows()\n",
    "d13()"
   ]
  },
  {
   "cell_type": "code",
   "execution_count": null,
   "id": "4ec48311-7cfc-4118-b5b6-9462bbca2a81",
   "metadata": {},
   "outputs": [],
   "source": [
    "# 缩放\n",
    "def d14():\n",
    "    img=cv2.imread('1.jpg')\n",
    "    shift=np.float32([[0.5,0,-50],[0,0.5,-50]])\n",
    "    dst1=cv2.warpAffine(img,shift,None)\n",
    "    dst2=cv2.warpAffine(img,shift,(300,100))\n",
    "    cv2.imshow(\"img1\",dst1)\n",
    "    cv2.imshow(\"img2\",dst2)\n",
    "    cv2.waitKey(0)\n",
    "    cv2.destroyAllWindows()\n",
    "d14()"
   ]
  },
  {
   "cell_type": "code",
   "execution_count": null,
   "id": "d2e72e14-5891-4820-9b16-ce33eb1d94c2",
   "metadata": {},
   "outputs": [],
   "source": [
    "# 旋转\n",
    "def d15():\n",
    "    img=cv2.imread('1.jpg')\n",
    "    rows,cols=img.shape[:2]\n",
    "    # (旋转中心，旋转角，缩放因子)\n",
    "    rotate=cv2.getRotationMatrix2D((cols/2,rows/2),45,0.6)\n",
    "    #(图，旋转，输出图像尺寸中心)\n",
    "    dst=cv2.warpAffine(img,rotate,(2*cols,2*rows))\n",
    "    cv2.imshow(\"img\",dst)\n",
    "    cv2.waitKey(0)\n",
    "    cv2.destroyAllWindows()\n",
    "d15()"
   ]
  },
  {
   "cell_type": "code",
   "execution_count": null,
   "id": "f304f94c-8c23-4763-b652-a84d0b83f3d8",
   "metadata": {},
   "outputs": [],
   "source": [
    "# 仿射变换\n",
    "def d16():\n",
    "    img=cv2.cvtColor(cv2.imread('1.jpg'),cv2.COLOR_BGR2RGB)\n",
    "    rows,cols,ch=img.shape\n",
    "    pts1=np.float32([[50,50],[200,50],[50,200]])\n",
    "    pts2=np.float32([[10,100],[200,50],[100,250]])\n",
    "    M=cv2.getAffineTransform(pts1,pts2)\n",
    "    dst=cv2.warpAffine(img,M,(cols,rows))\n",
    "    plt.subplot(121)\n",
    "    plt.imshow(img)\n",
    "    plt.title('Input')\n",
    "    plt.subplot(122)\n",
    "    plt.imshow(dst)\n",
    "    plt.title('Output')\n",
    "    plt.show()\n",
    "\n",
    "d16()"
   ]
  },
  {
   "cell_type": "code",
   "execution_count": null,
   "id": "07669193-e78f-4d76-9e61-06f0b0739214",
   "metadata": {},
   "outputs": [],
   "source": [
    "# 透射变换将曲转为直\n",
    "# opencv 使用的是BGR格式，matplotlib采用的是RGB\n",
    "def d17():\n",
    "    img1=cv2.imread('1.jpg')\n",
    "    img=cv2.cvtColor(img1,cv2.COLOR_BGR2RGB)\n",
    "    rows,cols,ch=img.shape\n",
    "    pts1 = np.float32([[56,65],[368,52],[28,387],[389,390]])\n",
    "    pts2 = np.float32([[0,0],[300,0],[0,300],[300,300]])\n",
    "    M=cv2.getPerspectiveTransform(pts1,pts2)\n",
    "    dst=cv2.warpPerspective(img,M,(300,300))\n",
    "    plt.subplot(121)\n",
    "    plt.imshow(img)\n",
    "    plt.title('Input')\n",
    "    plt.subplot(122)\n",
    "    plt.imshow(dst)\n",
    "    plt.title('Output')\n",
    "    plt.show()\n",
    "d17()"
   ]
  },
  {
   "cell_type": "code",
   "execution_count": null,
   "id": "e5e39ef8-ec5e-4f9c-bfba-a473aec6bcab",
   "metadata": {},
   "outputs": [],
   "source": [
    "#简单阈值(图片，分类阈值，像素赋值，阈值方法)\n",
    "def d18():\n",
    "    img1=cv2.imread('1.jpg')\n",
    "    img=cv2.cvtColor(img1,cv2.COLOR_BGR2RGB)\n",
    "    ret,thresh1=cv2.threshold(img,127,255,cv2.THRESH_BINARY)\n",
    "    ret,thresh2=cv2.threshold(img,127,255,cv2.THRESH_BINARY_INV)\n",
    "    ret,thresh3=cv2.threshold(img,127,255,cv2.THRESH_TRUNC)\n",
    "    ret,thresh4=cv2.threshold(img,127,255,cv2.THRESH_TOZERO)\n",
    "    ret,thresh5=cv2.threshold(img,127,255,cv2.THRESH_TOZERO_INV)\n",
    "    titles = ['Original Image','BINARY','BINARY_INV','TRUNC','TOZERO','TOZERO_INV']\n",
    "    images = [img, thresh1, thresh2, thresh3, thresh4, thresh5]\n",
    "    plt.figure(dpi=300,figsize=(20,6))\n",
    "    for i in range(6):\n",
    "        plt.subplot(2,3,i+1)\n",
    "        plt.imshow(images[i],'gray')\n",
    "        plt.title(titles[i])\n",
    "    plt.show()\n",
    "d18()"
   ]
  },
  {
   "cell_type": "code",
   "execution_count": null,
   "id": "2234ce54-dcfa-4809-ae4c-0710357b8b08",
   "metadata": {},
   "outputs": [],
   "source": [
    "# 自适应阈值\n",
    "def d19():\n",
    "    img = cv2.imread('1.jpg',0)\n",
    "    # 中值滤波\n",
    "    #img = cv2.medianBlur(img,5)\n",
    "    ret,th1 = cv2.threshold(img,127,255,cv2.THRESH_BINARY)\n",
    "    #11 为Block size, 2 为C 值\n",
    "    th2 = cv2.adaptiveThreshold(img,255,cv2.ADAPTIVE_THRESH_MEAN_C,\\\n",
    "    cv2.THRESH_BINARY,11,2)\n",
    "    th3 = cv2.adaptiveThreshold(img,255,cv2.ADAPTIVE_THRESH_GAUSSIAN_C,\\\n",
    "    cv2.THRESH_BINARY,11,2)\n",
    "    titles = ['Original Image', 'Global Thresholding (v = 127)',\n",
    "    'Adaptive Mean Thresholding', 'Adaptive Gaussian Thresholding']\n",
    "    images = [img, th1, th2, th3]\n",
    "    plt.figure(dpi=300,figsize=(15,6))\n",
    "    for i in range(4):\n",
    "        plt.subplot(2,2,i+1)\n",
    "        plt.imshow(images[i],'gray')\n",
    "        plt.title(titles[i])\n",
    "    plt.show()\n",
    "d19()"
   ]
  },
  {
   "cell_type": "code",
   "execution_count": null,
   "id": "c86f625a-1b5d-47f2-9bbd-76f4485e3241",
   "metadata": {},
   "outputs": [],
   "source": [
    "# Otsus二值化\n",
    "def d20():\n",
    "    img = cv2.imread('2.png',0)\n",
    "    # global thresholding\n",
    "    ret1,th1 = cv2.threshold(img,80,255,cv2.THRESH_BINARY)\n",
    "    # Otsu's thresholding\n",
    "    ret2,th2 = cv2.threshold(img,0,255,cv2.THRESH_BINARY+cv2.THRESH_OTSU)\n",
    "    # Otsu's thresholding after Gaussian filtering\n",
    "    #􈙹5,5􈙺为􅒇斯核的大小􈙽0 为标准差\n",
    "    blur = cv2.GaussianBlur(img,(5,5),0)\n",
    "    # 􄾷值一定􄌰􄕭为0􈙲\n",
    "    ret3,th3 = cv2.threshold(blur,0,255,cv2.THRESH_BINARY+cv2.THRESH_OTSU)\n",
    "    # plot all the images and their histograms\n",
    "    images = [img, 0, th1, img, 0, th2, blur, 0, th3]\n",
    "    titles = ['Original Noisy Image','Histogram','Global Thresholding (v=127)','Original Noisy Image','Histogram',\"Otsu's Thresholding\",'Gaussian filtered Image','Histogram',\"Otsu's Thresholding\"]\n",
    "    # 􄦈􄭻使用了pyplot 中画直方图的方法􈙽plt.hist, 􄌰注意的是它的参数是一维数组\n",
    "    # 所以􄦈􄭻使用了􈙹numpy􈙺ravel 方法􈙽将多维数组􄤛换成一维􈙽也可以使用flatten 方法\n",
    "    #ndarray.flat 1-D iterator over an array.\n",
    "    #ndarray.flatten 1-D array copy of the elements of an array in row-major order.\n",
    "    plt.figure(dpi=300,figsize=(15,6))\n",
    "    for i in range(3):\n",
    "        plt.subplot(3,3,i*3+1)\n",
    "        plt.imshow(images[i*3],'gray')\n",
    "        plt.subplot(3,3,i*3+2)\n",
    "        plt.hist(images[i*3].ravel(),256)\n",
    "        plt.subplot(3,3,i*3+3)\n",
    "        plt.imshow(images[i*3+2],'gray')\n",
    "    plt.show()\n",
    "d20()"
   ]
  },
  {
   "cell_type": "code",
   "execution_count": null,
   "id": "5b48da60-4462-410a-a47e-40d0d6d8bb99",
   "metadata": {},
   "outputs": [],
   "source": [
    "# 图像平滑 2D卷积cv2.filter2D() 归一化卷积\n",
    "# 低通滤波(LPF)去除噪音模糊图像 高通滤波(HPF)找图像边缘\n",
    "def d21():\n",
    "    img1=cv2.imread('1.jpg')\n",
    "    img=cv2.cvtColor(img1,cv2.COLOR_BGR2RGB)\n",
    "    kernel=np.ones((10,10),np.float32)/100\n",
    "    dst=cv2.filter2D(img,-1, kernel)\n",
    "    plt.figure(figsize=(25,50))\n",
    "    plt.subplot(1,2,1)\n",
    "    plt.imshow(img)\n",
    "    plt.subplot(1,2,2)\n",
    "    plt.imshow(dst)\n",
    "d21()"
   ]
  },
  {
   "cell_type": "code",
   "execution_count": null,
   "id": "adab3c87-f04f-4eae-a732-14917116a7b1",
   "metadata": {},
   "outputs": [],
   "source": [
    "# 平均 图像模糊平滑归一化卷积框 cv2.blur() cv2.boxFilter()\n",
    "# 用卷积框覆盖区域所有像素的平均值来代替中心元素\n",
    "def d22():\n",
    "    img=cv2.cvtColor(cv2.imread('1.jpg'),cv2.COLOR_BGR2RGB)\n",
    "    blur=cv2.blur(img,(10,10))\n",
    "    plt.figure(figsize=(25,50))\n",
    "    plt.subplot(1,2,1)\n",
    "    plt.imshow(img)\n",
    "    plt.subplot(1,2,2)\n",
    "    plt.imshow(blur)\n",
    "d22()"
   ]
  },
  {
   "cell_type": "code",
   "execution_count": null,
   "id": "3926e41a-283d-4d02-8b68-ca769909ecd1",
   "metadata": {
    "tags": []
   },
   "outputs": [],
   "source": [
    "# Gaussian模糊 将方框值符合高斯分布，求平均为加权平均 cv2.GaussianBlur()\n",
    "# Gaussian核的宽高必须是奇数\n",
    "# 指定宽和高，X、Y方向标准差(非必须，指定x 也会取相同值)\n",
    "def d23():\n",
    "    img=cv2.cvtColor(cv2.imread('1.jpg'),cv2.COLOR_BGR2RGB)\n",
    "    blur=cv2.GaussianBlur(img,(11,11),0)\n",
    "    plt.figure(figsize=(25,50))\n",
    "    plt.subplot(1,2,1)\n",
    "    plt.imshow(img)\n",
    "    plt.subplot(1,2,2)\n",
    "    plt.imshow(blur)\n",
    "d23()"
   ]
  },
  {
   "cell_type": "code",
   "execution_count": null,
   "id": "ee20e838-844c-4487-989f-62652eff7dcb",
   "metadata": {},
   "outputs": [],
   "source": [
    "# 中值模糊\n",
    "# 卷积框对应像素中值代替中心像素值。\n",
    "def d24():\n",
    "    img=cv2.cvtColor(cv2.imread('1.jpg'),cv2.COLOR_BGR2RGB)\n",
    "    blur=cv2.medianBlur(img,19)\n",
    "    plt.figure(figsize=(25,50))\n",
    "    plt.subplot(1,2,1)\n",
    "    plt.imshow(img)\n",
    "    plt.subplot(1,2,2)\n",
    "    plt.imshow(blur)\n",
    "d24()"
   ]
  },
  {
   "cell_type": "code",
   "execution_count": null,
   "id": "0ffebd32-0429-4147-b49c-c2a1e6dbb8ca",
   "metadata": {},
   "outputs": [],
   "source": [
    "# 双边滤波 cv2.bilateralFilter()\n",
    "# 双边滤波在同时使用空间高斯权重和灰度值相似性高斯权重。\n",
    "# 空间高斯函数确保只有邻近区域的像素对中心点有影响\n",
    "# 灰度值相似性􅒇斯函数确保只有与中心像素灰度值相近的才会用来做模糊运算\n",
    "def d25():\n",
    "    img=cv2.cvtColor(cv2.imread('1.jpg'),cv2.COLOR_BGR2RGB)\n",
    "    # (图片，邻域直径，空间高斯函数标准差，灰度值相似性高斯函数标准差)\n",
    "    blur=cv2.bilateralFilter(img,15,31,31)\n",
    "    plt.figure(figsize=(25,50))\n",
    "    plt.subplot(1,2,1)\n",
    "    plt.imshow(img)\n",
    "    plt.subplot(1,2,2)\n",
    "    plt.imshow(blur)\n",
    "d25()"
   ]
  },
  {
   "cell_type": "code",
   "execution_count": null,
   "id": "1411bd5a-9546-4cd6-8ef0-bdcf76f18056",
   "metadata": {},
   "outputs": [],
   "source": []
  }
 ],
 "metadata": {
  "kernelspec": {
   "display_name": "Python 3",
   "language": "python",
   "name": "python3"
  },
  "language_info": {
   "codemirror_mode": {
    "name": "ipython",
    "version": 3
   },
   "file_extension": ".py",
   "mimetype": "text/x-python",
   "name": "python",
   "nbconvert_exporter": "python",
   "pygments_lexer": "ipython3",
   "version": "3.7.6"
  }
 },
 "nbformat": 4,
 "nbformat_minor": 5
}
