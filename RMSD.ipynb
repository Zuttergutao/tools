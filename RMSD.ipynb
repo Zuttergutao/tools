{
 "cells": [
  {
   "cell_type": "code",
   "execution_count": null,
   "id": "83b85234-13bf-49a8-ab17-bb725c302419",
   "metadata": {},
   "outputs": [],
   "source": [
    "import pandas as pd\n",
    "import numpy as np\n",
    "import matplotlib.pyplot as plt\n",
    "import re\n",
    "import mdtraj as md\n",
    "%matplotlib inline"
   ]
  },
  {
   "cell_type": "code",
   "execution_count": null,
   "id": "a946c4dd-e9f7-4636-b1fd-6de28e95564a",
   "metadata": {
    "tags": []
   },
   "outputs": [],
   "source": [
    "def rms(xvg):\n",
    "    \n",
    "    with open(xvg) as f:\n",
    "        lines = f.readlines()\n",
    "        drawparams=[ l for l in lines if l.startswith('@')]\n",
    "        data=[[float(i) for i in l.split()] for l in lines if not l.startswith('#') and not l.startswith('@')]\n",
    "    M=re.compile(r'.*\\\"(.*)\\\".*')\n",
    "    title = re.match(M, [p for p in drawparams if p.split()[1] == 'title'][0]).group(1)\n",
    "    xlabel = re.match(M, [p for p in drawparams if p.split()[1] == 'xaxis'][0]).group(1)\n",
    "    ylabel = re.match(M, [p for p in drawparams if p.split()[1] == 'yaxis'][0]).group(1)\n",
    "    #subtitle=re.match(M, [p for p in drawparams if p.split()[1] == 'subtitle'][0]).group(1)\n",
    "    df=pd.DataFrame(data,columns=[xlabel,ylabel])\n",
    "    plt.xlabel(xlabel)\n",
    "    plt.ylabel(ylabel)\n",
    "    plt.title(title)\n",
    "    #plt.suptitle(subtitle)\n",
    "    plt.plot(df[xlabel],df[ylabel],label=title)\n",
    "    plt.legend()\n",
    "    plt.savefig('{}.png'.format(title),dpi=300)"
   ]
  },
  {
   "cell_type": "code",
   "execution_count": null,
   "id": "38b9da0a-630a-4cae-b7a3-11783de4a690",
   "metadata": {
    "tags": []
   },
   "outputs": [],
   "source": [
    "def output_seq(pdb_file):\n",
    "    \n",
    "    trans = {\n",
    "    'ALA':'A','CYS':'C','ASP':'D','GLU':'E',\n",
    "    'PHE':'F','GLY':'G','HIS':'H','LYS':'K',\n",
    "    'ILE':'I','LEU':'L','MET':'M','ASN':'N',\n",
    "    'PRO':'P','GLN':'Q','ARG':'R','SER':'S',\n",
    "    'THR':'T','VAL':'V','TYR':'Y','TRP':'W'\n",
    "    }\n",
    "    with open(pdb_file) as f:\n",
    "        lines = f.readlines()\n",
    "        data=[[str(i) for i in l.split()] for l in lines if l.startswith('ATOM')]\n",
    "    list=[]\n",
    "    single=[]\n",
    "    ss=[]\n",
    "    df=pd.DataFrame(data)\n",
    "    for i in df.index.values:\n",
    "        if i < df.index.values[-1]:\n",
    "            if df.iloc[i,:][5] != df.iloc[i+1,:][5]:         \n",
    "                list.append(df.iloc[i,:][3])\n",
    "                single.append(trans[df.iloc[i,:][3]])\n",
    "                ss.append(trans[df.iloc[i,:][3]]+str(df.iloc[i,:][5]))\n",
    "        else:\n",
    "            list.append(df.iloc[i,:][3])\n",
    "            single.append(trans[df.iloc[i,:][3]])\n",
    "            ss.append(trans[df.iloc[i,:][3]]+str(df.iloc[i,:][5]))\n",
    "    ex_name=pdb_file.split(\".\")[0]\n",
    "    seq=pd.DataFrame(list,columns=[\"Amino acid\"])\n",
    "    seq['Single']=single\n",
    "    seq['SS']=ss\n",
    "    seq.to_excel('Seq_%s.xlsx' %ex_name)"
   ]
  },
  {
   "cell_type": "code",
   "execution_count": null,
   "id": "34f11dda-049a-4895-b195-e8fe858a7bdb",
   "metadata": {
    "tags": []
   },
   "outputs": [],
   "source": [
    "# 计算两个原子之间的距离\n",
    "def distance(xtc,top,atom1,atom2,gap=1):\n",
    "    traj=md.load_xtc(xtc,top=top,stride=gap)\n",
    "    frames=traj.n_frames\n",
    "    total_frame=gap*frames\n",
    "    m=md.compute_distances(traj,atom_pairs=[[atom1,atom2]])\n",
    "    df=pd.DataFrame(m,columns=['distances'],index=np.arange(0,total_frame,gap))\n",
    "    plt.plot(df,label=df.columns.values[0])\n",
    "    plt.xlabel('frames')\n",
    "    plt.ylabel('distance')\n",
    "    plt.xlim((0,total_frame))\n",
    "    plt.title(\"Distance between Atom{} and Atom{} (nm)\".format(atom1,atom2))\n",
    "    plt.legend()\n",
    "    plt.show()"
   ]
  },
  {
   "cell_type": "code",
   "execution_count": null,
   "id": "ccbde2df-18b4-4589-8d5b-3e3c5064edae",
   "metadata": {},
   "outputs": [],
   "source": []
  },
  {
   "cell_type": "code",
   "execution_count": null,
   "id": "00d4a25d-21e9-41d6-98d2-af9d457e736f",
   "metadata": {},
   "outputs": [],
   "source": []
  }
 ],
 "metadata": {
  "kernelspec": {
   "display_name": "Python 3",
   "language": "python",
   "name": "python3"
  },
  "language_info": {
   "codemirror_mode": {
    "name": "ipython",
    "version": 3
   },
   "file_extension": ".py",
   "mimetype": "text/x-python",
   "name": "python",
   "nbconvert_exporter": "python",
   "pygments_lexer": "ipython3",
   "version": "3.7.6"
  }
 },
 "nbformat": 4,
 "nbformat_minor": 5
}
