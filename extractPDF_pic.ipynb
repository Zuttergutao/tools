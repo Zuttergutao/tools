{
 "cells": [
  {
   "cell_type": "code",
   "execution_count": 1,
   "metadata": {},
   "outputs": [],
   "source": [
    "import fitz,time,re,os\n",
    "from PyPDF4 import PdfFileReader\n",
    "from docx import  Document\n",
    "from docx.shared import Inches"
   ]
  },
  {
   "cell_type": "code",
   "execution_count": 2,
   "metadata": {},
   "outputs": [],
   "source": [
    "# 提取图片\n",
    "def pdf2pic(path,pic_path,document):\n",
    "    '''\n",
    "    # 从指定pdf中提取图片并保存到指定路径\n",
    "    :param path: pdf路径\n",
    "    :param pic_path: 图片保存路径 \n",
    "    '''\n",
    "    # 使用正则寻找图片\n",
    "    checkXO = r\"/Type(?= */XObject)\" \n",
    "    findIM=r\"/Subtype(?= */Image)\"\n",
    "    pdf=fitz.open(path)\n",
    "    imgcount=0\n",
    "    lenXREF=pdf.xref_length()\n",
    "    for i in range(1,lenXREF):\n",
    "        # 定义对象字符串\n",
    "        text = pdf.xref_object(i)\n",
    "        isXObject = re.search(checkXO, text)\n",
    "        # 使用正则表达式查看是否是图片\n",
    "        isImage = re.search(findIM, text)\n",
    "        # 如果不是对象也不是图片，则continue\n",
    "        if not isXObject or not isImage:\n",
    "            continue\n",
    "        imgcount +=1\n",
    "        # 根据索引生成图像\n",
    "        pic = fitz.Pixmap(pdf, i)\n",
    "        # 根据pdf的路径生成图片的名称\n",
    "        new_name = \"img{}.png\".format(imgcount)\n",
    "        # 如果pix.n<5,可以直接存为PNG\n",
    "        if pic.n < 3:\n",
    "            pic.save(os.path.join(pic_path, new_name))\n",
    "            document.add_picture(os.path.join(pic_path, new_name),width=Inches(5.5))\n",
    "        # 否则先转换CMYK\n",
    "        else:\n",
    "            pic0 = fitz.Pixmap(fitz.csRGB, pic)\n",
    "            pic0.save(os.path.join(pic_path, new_name))\n",
    "            document.add_picture(os.path.join(pic_path, new_name),width=Inches(5.5))\n",
    "            pic0 = None\n",
    "        # 释放资源\n",
    "        pic = None\n",
    "        \n",
    "        "
   ]
  },
  {
   "cell_type": "code",
   "execution_count": 6,
   "metadata": {},
   "outputs": [],
   "source": [
    "if __name__=='__main__':\n",
    "    # pdf路径\n",
    "    # 建议将文献管理软件中的默认pdf命名改为题目名\n",
    "    path=r\"F:\\Endnote库\\BTF_VOCs.Data\\PDF\"\n",
    "    pic_path=r'F:\\Endnote库\\BTF_VOCs.Data\\PIC'\n",
    "    if os.path.exists(pic_path):\n",
    "        pass\n",
    "    else:\n",
    "        os.mkdir(pic_path)\n",
    "    document=Document()\n",
    "    filenames=[filename for filename in os.listdir(path)]\n",
    "    n=1\n",
    "    for i in filenames:\n",
    "        full_path=path+\"\\\\\"+ i\n",
    "        for root, subDirs, files in os.walk(full_path):\n",
    "            for fn in files:\n",
    "                if fn.endswith(\".pdf\"):\n",
    "                    heading=\"[\"+ str(n) +\"]\"+\" \"+fn.strip(\".pdf\")\n",
    "                    document.add_heading(heading,level=1)\n",
    "                    pdf_path=full_path+\"\\\\\"+fn\n",
    "                    fin=open(pdf_path,'rb')\n",
    "                    picpath=pic_path+\"\\\\\"+fn.strip(\".pdf\")\n",
    "                    if os.path.exists(picpath):\n",
    "                        pass\n",
    "                    else:\n",
    "                        os.mkdir(picpath)\n",
    "              \n",
    "                    pdf2pic(pdf_path,picpath,document)\n",
    "        n=n+1\n",
    "\n",
    "    document.save(\"F:\\Endnote库\\BTF_VOCs.Data\\PDF\\demo.docx\")\n"
   ]
  },
  {
   "cell_type": "code",
   "execution_count": 30,
   "metadata": {},
   "outputs": [
    {
     "name": "stderr",
     "output_type": "stream",
     "text": [
      "FitzDeprecation: 'writePNG' removed from class 'Pixmap' after v1.19 - use 'save'. [__init__.py:170]\n"
     ]
    }
   ],
   "source": []
  },
  {
   "cell_type": "code",
   "execution_count": 37,
   "metadata": {},
   "outputs": [],
   "source": []
  },
  {
   "cell_type": "code",
   "execution_count": null,
   "metadata": {},
   "outputs": [],
   "source": []
  }
 ],
 "metadata": {
  "interpreter": {
   "hash": "b3ba2566441a7c06988d0923437866b63cedc61552a5af99d1f4fb67d367b25f"
  },
  "kernelspec": {
   "display_name": "Python 3.7.6 ('base')",
   "language": "python",
   "name": "python3"
  },
  "language_info": {
   "codemirror_mode": {
    "name": "ipython",
    "version": 3
   },
   "file_extension": ".py",
   "mimetype": "text/x-python",
   "name": "python",
   "nbconvert_exporter": "python",
   "pygments_lexer": "ipython3",
   "version": "3.7.6"
  },
  "orig_nbformat": 4
 },
 "nbformat": 4,
 "nbformat_minor": 2
}
