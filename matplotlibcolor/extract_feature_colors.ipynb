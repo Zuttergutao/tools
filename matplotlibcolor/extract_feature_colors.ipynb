{
 "cells": [
  {
   "cell_type": "code",
   "execution_count": 1,
   "metadata": {},
   "outputs": [],
   "source": [
    "import matplotlib.pyplot as plt\n",
    "from matplotlib.colors import ListedColormap\n",
    "import numpy as np\n",
    "from PIL import Image"
   ]
  },
  {
   "cell_type": "code",
   "execution_count": 2,
   "metadata": {},
   "outputs": [],
   "source": [
    "class extract_feature_colors:\n",
    "    \"\"\"\n",
    "    提取图片的特征颜色，包括构建颜色映射和绘制颜色映射。\n",
    "    \"\"\"\n",
    "    def __init__(self,img_path,num_colors=25):\n",
    "        \"\"\"\n",
    "        初始化函数。\n",
    "\n",
    "        参数：\n",
    "        - img_path: str 图片路径\n",
    "        - num_colors: int 需要提取的特征颜色数量，默认值为 25\n",
    "        \"\"\"\n",
    "        self.imgpath=img_path\n",
    "        self.numcolors=num_colors\n",
    "    \n",
    "    def RGB_to_Hex(self,rgb):\n",
    "        \"\"\"\n",
    "        将 RGB 格式的颜色转换为十六进制格式。\n",
    "\n",
    "        参数：\n",
    "        - rgb: tuple 包含三个整数的 RGB 颜色元组\n",
    "\n",
    "        返回值：\n",
    "        - color: str 十六进制格式的颜色代码\n",
    "        \"\"\"\n",
    "        color = '#'\n",
    "        for i in rgb:\n",
    "            num = int(i)\n",
    "            color += str(hex(num))[-2:].replace('x', '0').upper()\n",
    "        return color\n",
    "    \n",
    "    def draw_cm(self,savefig=True,cmname=\"colormap.png\"):\n",
    "        \"\"\"\n",
    "        绘制颜色映射，并将结果保存到 colormap.png 文件中。\n",
    "\n",
    "        参数：\n",
    "        - savefig: bool 是否保存图像，True 表示保存，False 表示不保存，默认值为 True\n",
    "        - cmname: str 保存的图像名称，仅在 savefig 为 True 时生效，默认值为 \"colormap.png\"\n",
    "        \"\"\"\n",
    "        fig,axes=plt.subplots(figsize=(1*self.numcolors,2))\n",
    "        axes.imshow([np.arange(len(self.colormap()))],cmap=ListedColormap(self.colormap()),aspect=\"auto\")\n",
    "        axes.set_xticks(np.arange(len(self.colormap())),self.colormap())\n",
    "        axes.set_yticks([])\n",
    "        axes.grid(False)\n",
    "        axes.spines[\"top\"].set_visible(False)\n",
    "        axes.spines[\"bottom\"].set_visible(False)\n",
    "        axes.spines[\"left\"].set_visible(False)\n",
    "        axes.spines[\"right\"].set_visible(False)\n",
    "        axes.tick_params(axis='both',which='both',length=0)\n",
    "        if savefig== True:\n",
    "            fig.savefig(cmname,dpi=600)\n",
    "\n",
    "    def rgb_sort(self,x):\n",
    "        \"\"\"\n",
    "        对颜色排序，将十六进制数转换为整数进行排序。\n",
    "\n",
    "        参数：\n",
    "        - x: str 十六进制格式的颜色代码\n",
    "\n",
    "        返回值：\n",
    "        - int(x[1:], 16): int 十六进制数转换后的整数\n",
    "        \"\"\"\n",
    "        return int(x[1:], 16)\n",
    "\n",
    "    def colormap(self):\n",
    "        \"\"\"\n",
    "        构建颜色映射。\n",
    "\n",
    "        返回值：\n",
    "        - colormap: list 包含 num_colors 种颜色代码的字符串列表，按顺序排列（从深到浅）\n",
    "        \"\"\"\n",
    "        image = Image.open(self.imgpath)\n",
    "        small_image = image\n",
    "        result = small_image.convert('P', palette=Image.Palette.ADAPTIVE, colors=self.numcolors)   # image with 5 dominating colors\n",
    "        result = result.convert('RGB')\n",
    "        main_colors = result.getcolors()\n",
    "        colormap=[]\n",
    "        for i in range(len(main_colors)):\n",
    "            colormap.append(self.RGB_to_Hex(main_colors[i][1]))\n",
    "            \n",
    "        colormap=sorted(colormap,key=self.rgb_sort)\n",
    "        colormap.reverse()\n",
    "        return colormap"
   ]
  },
  {
   "cell_type": "code",
   "execution_count": 4,
   "metadata": {},
   "outputs": [
    {
     "data": {
      "image/png": "[encoded data removed]",
      "text/plain": [
       "<Figure size 360x144 with 1 Axes>"
      ]
     },
     "metadata": {
      "needs_background": "light"
     },
     "output_type": "display_data"
    }
   ],
   "source": [
    "extract_feature_colors(\"bingbing.png\",5).draw_cm()"
   ]
  }
 ],
 "metadata": {
  "kernelspec": {
   "display_name": "base",
   "language": "python",
   "name": "python3"
  },
  "language_info": {
   "codemirror_mode": {
    "name": "ipython",
    "version": 3
   },
   "file_extension": ".py",
   "mimetype": "text/x-python",
   "name": "python",
   "nbconvert_exporter": "python",
   "pygments_lexer": "ipython3",
   "version": "3.7.13"
  },
  "orig_nbformat": 4
 },
 "nbformat": 4,
 "nbformat_minor": 2
}
