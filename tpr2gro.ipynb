{
 "cells": [
  {
   "cell_type": "code",
   "execution_count": 1,
   "metadata": {},
   "outputs": [],
   "source": [
    "import numpy as np\n",
    "import matplotlib.pyplot as plt\n",
    "import pandas as pd\n",
    "import re\n",
    "import math"
   ]
  },
  {
   "cell_type": "code",
   "execution_count": 2,
   "metadata": {},
   "outputs": [],
   "source": [
    "# 1.read (gmx dump -s md.tpr > md.out ) file\n",
    "with open(\"md.out\") as f:\n",
    "    lines=f.readlines()"
   ]
  },
  {
   "cell_type": "code",
   "execution_count": 3,
   "metadata": {},
   "outputs": [],
   "source": [
    "# 2. find all molblocks\n",
    "molblockstart=[]\n",
    "box=[]\n",
    "for line in lines:\n",
    "    if line.startswith(\"   molblock\"):\n",
    "        molblockstart.append(lines.index(line))\n",
    "    if line.startswith(\"box (3x3):\"):\n",
    "        box.append(re.findall(re.compile(r\"=\\{([\\,\\s\\+\\-e\\.0-9]+)\\}\"),lines[lines.index(line)+1])[0].split(\",\"))\n",
    "        box.append(re.findall(re.compile(r\"=\\{([\\,\\s\\+\\-e\\.0-9]+)\\}\"),lines[lines.index(line)+2])[0].split(\",\"))\n",
    "        box.append(re.findall(re.compile(r\"=\\{([\\,\\s\\+\\-e\\.0-9]+)\\}\"),lines[lines.index(line)+3])[0].split(\",\"))\n",
    "totalatom={}\n",
    "for i,j in enumerate(molblockstart):\n",
    "    totalatom[re.findall(re.compile(r\"\\s[0-9]+\\s\\\"([0-9a-zA-Z\\-\\_\\+]+)\\\"\"),lines[j+1])[0]]=re.findall(re.compile(r\"\\s=\\s([0-9]+)\"),lines[j+2])[0]"
   ]
  },
  {
   "cell_type": "code",
   "execution_count": 4,
   "metadata": {},
   "outputs": [],
   "source": [
    "# 3.read coord\n",
    "for line in lines:\n",
    "    if line.startswith(\"x (\"):\n",
    "        xlen=re.findall(re.compile(r\"\\s\\(([0-9]+)x\"),line)\n",
    "        xstart=lines.index(line)+1\n",
    "        xend=int(xlen[0])+xstart\n",
    "coord=[re.findall(re.compile(r\"\\{([\\s0-9a-zA-Ze\\.\\+\\-\\,]+)\\}\"),line)[0].split(\",\") for line in lines[xstart:xend]]\n",
    "coord=pd.DataFrame(coord,columns=[\"x\",\"y\",\"z\"])"
   ]
  },
  {
   "cell_type": "code",
   "execution_count": 5,
   "metadata": {},
   "outputs": [],
   "source": [
    "# 4. read type mass charge atomidx resid atomname atomtype \n",
    "# 修改resindex思路，根据循环\n",
    "# 先设置一个初始residx_tmp=0,在第一层循环时即对蛋白序列都只加上0\n",
    "# 第二次循环时，residx_tmp取存储在tmp中的最后一个残基index进行累加\n",
    "# 对于sol及NA离子，通过在循环内添加countindx实现自增\n",
    "tmp=[]\n",
    "type=re.compile(r\"type=([\\s0-9]+)\")\n",
    "mass=re.compile(r\"m=([\\s\\.0-9e\\+\\-]+)\")\n",
    "charge=re.compile(r\"q=([\\s\\.0-9e\\+\\-]+)\")\n",
    "adx=re.compile(r\"atom\\[([\\s0-9]+)\")\n",
    "resid=re.compile(r\"resind=([\\s0-9\\+\\-]+)\")\n",
    "atn=re.compile(r\"atomnumber=([\\s0-9\\+\\-]+)\")\n",
    "atomname=re.compile(r\"{name=\\\"([A-Za-z0-9\\*\\_]+)\\\"\")\n",
    "atomtype=re.compile(r\"{name=\\\"([A-Za-z0-9\\*\\_]+)\\\",\")\n",
    "residuestart=[]\n",
    "residx_tmp=0\n",
    "for line in lines:\n",
    "    for i,j in enumerate(totalatom):\n",
    "        if line.startswith(\"      name=\"+\"\\\"\"+j+\"\\\"\"):\n",
    "            Len=re.findall(re.compile(r\"\\s\\(([0-9]+)\"),lines[lines.index(line)+2])\n",
    "            start=lines.index(line)+3\n",
    "            end=start+int(Len[0])\n",
    "            resn={}\n",
    "            resns=re.findall(re.compile(r\"\\s\\(([0-9]+)\\)\"),lines[start+3*int(Len[0])+2])[0]\n",
    "            for res in range(int(resns)):\n",
    "                resn[res]=re.findall(re.compile(r\"{name=\\\"([a-zA-Z0-9\\_\\+\\*]+)\"),lines[start+3*int(Len[0])+res+3])[0]\n",
    "            if int(totalatom[j])!=1:\n",
    "                coutindx=1\n",
    "                for n in range(int(totalatom[j])):\n",
    "                    count=1\n",
    "                    for m in lines[start:end]:\n",
    "                        tmp.append([\n",
    "                            re.findall(type,m)[0].split()[0],\n",
    "                            re.findall(mass,m)[0].split()[0],\n",
    "                            re.findall(charge,m)[0].split()[0],\n",
    "                            re.findall(adx,m)[0].split()[0],\n",
    "                            int(re.findall(resid,m)[0].split()[0])+coutindx+residx_tmp,\n",
    "                            re.findall(atn,m)[0].split()[0],\n",
    "                            re.findall(atomname,lines[start+int(Len[0])+count])[0].split()[0],\n",
    "                            re.findall(atomtype,lines[start+2*int(Len[0])+count+1])[0].split()[0],\n",
    "                            resn[int(re.findall(resid,m)[0].split()[0])],\n",
    "                            j,\n",
    "                        ])\n",
    "                        count=count+1\n",
    "                    coutindx=coutindx+1\n",
    "                residx_tmp=tmp[-1][4]\n",
    "            else:\n",
    "                count=1\n",
    "                for m in lines[start:end]:\n",
    "                        tmp.append([\n",
    "                            re.findall(type,m)[0].split()[0],\n",
    "                            re.findall(mass,m)[0].split()[0],\n",
    "                            re.findall(charge,m)[0].split()[0],\n",
    "                            re.findall(adx,m)[0].split()[0],\n",
    "                            int(re.findall(resid,m)[0].split()[0])+1+residx_tmp,\n",
    "                            re.findall(atn,m)[0].split()[0],\n",
    "                            re.findall(atomname,lines[start+int(Len[0])+count])[0].split()[0],\n",
    "                            re.findall(atomtype,lines[start+2*int(Len[0])+count+1])[0].split()[0],\n",
    "                            resn[int(re.findall(resid,m)[0].split()[0])],\n",
    "                            j\n",
    "                        ])\n",
    "                        count=count+1\n",
    "                residx_tmp=tmp[-1][4]\n",
    "info=pd.DataFrame(tmp,columns=[\"functype\",\"mass\",\"charge\",\"atomidx\",\"resid\",\"atomnumber\",\"atomname\",\"atomtype\",\"resname\",\"group\"])"
   ]
  },
  {
   "cell_type": "code",
   "execution_count": 6,
   "metadata": {},
   "outputs": [],
   "source": [
    "# 5. combine info and coord\n",
    "total=pd.concat([info,coord],axis=1)\n",
    "total.insert(loc=0,column=\"index\",value=np.arange(1,total.shape[0]+1))\n",
    "total[[\"functype\",\"atomidx\",\"resid\",\"atomnumber\"]]=total[[\"functype\",\"atomidx\",\"resid\",\"atomnumber\"]].apply(pd.to_numeric)\n",
    "total[[\"mass\",\"charge\",\"x\",\"y\",\"z\"]]=total[[\"mass\",\"charge\",\"x\",\"y\",\"z\"]].astype(float)"
   ]
  },
  {
   "cell_type": "code",
   "execution_count": 7,
   "metadata": {},
   "outputs": [],
   "source": [
    "# 6. output\n",
    "fp=open(\"output.gro\",\"w\")\n",
    "fp.write(\"this file was generated by CASEA \\n\")\n",
    "fp.write(\"{} \\n\".format(total.shape[0]))\n",
    "for index,row in total.iterrows():\n",
    "    fp.write((\"%5d%-5s%5s%5d%8.3f%8.3f%8.3f \\n\")%(row[\"resid\"],row[\"resname\"],row[\"atomname\"],row[\"index\"],row[\"x\"],row[\"y\"],row[\"z\"]))\n",
    "fp.write(\"{}{}{} \\n\".format(box[0][0],box[1][1],box[2][2]))\n",
    "fp.close()"
   ]
  },
  {
   "cell_type": "code",
   "execution_count": null,
   "metadata": {},
   "outputs": [],
   "source": []
  }
 ],
 "metadata": {
  "kernelspec": {
   "display_name": "Python 3.7.13 ('base')",
   "language": "python",
   "name": "python3"
  },
  "language_info": {
   "codemirror_mode": {
    "name": "ipython",
    "version": 3
   },
   "file_extension": ".py",
   "mimetype": "text/x-python",
   "name": "python",
   "nbconvert_exporter": "python",
   "pygments_lexer": "ipython3",
   "version": "3.7.13"
  },
  "orig_nbformat": 4,
  "vscode": {
   "interpreter": {
    "hash": "ad2bdc8ecc057115af97d19610ffacc2b4e99fae6737bb82f5d7fb13d2f2c186"
   }
  }
 },
 "nbformat": 4,
 "nbformat_minor": 2
}
